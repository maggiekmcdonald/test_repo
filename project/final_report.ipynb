{
 "cells": [
  {
   "cell_type": "markdown",
   "id": "955df646-3956-45c6-aca9-78a41078e8ac",
   "metadata": {},
   "source": [
    "Question of interest "
   ]
  },
  {
   "cell_type": "markdown",
   "id": "cb2dcc67-9fe1-4dbd-a3e5-d135ce6d70d7",
   "metadata": {},
   "source": [
    "Exploratory data analysis"
   ]
  },
  {
   "cell_type": "code",
   "execution_count": null,
   "id": "524880e6-8924-4832-9673-4a549171a22d",
   "metadata": {},
   "outputs": [],
   "source": []
  }
 ],
 "metadata": {
  "kernelspec": {
   "display_name": "R",
   "language": "R",
   "name": "ir"
  },
  "language_info": {
   "codemirror_mode": "r",
   "file_extension": ".r",
   "mimetype": "text/x-r-source",
   "name": "R",
   "pygments_lexer": "r",
   "version": "4.3.3"
  }
 },
 "nbformat": 4,
 "nbformat_minor": 5
}
